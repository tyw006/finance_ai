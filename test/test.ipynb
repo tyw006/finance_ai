{
 "cells": [
  {
   "cell_type": "code",
   "execution_count": 1,
   "metadata": {},
   "outputs": [],
   "source": [
    "from langchain_community.llms import Ollama\n",
    "from crewai import Agent, Task, Crew, Process\n",
    "\n",
    "from langchain.agents import Tool\n",
    "from langchain_experimental.utilities import PythonREPL"
   ]
  },
  {
   "cell_type": "code",
   "execution_count": 2,
   "metadata": {},
   "outputs": [
    {
     "name": "stdout",
     "output_type": "stream",
     "text": [
      " To read a CSV file into a DataFrame using Python, you can use the `pandas` library. If you haven't installed it yet, you can do so by running `pip install pandas` in your terminal or command prompt. Here is an example of how to read a CSV file named \"data.csv\" into a DataFrame:\n",
      "\n",
      "```python\n",
      "import pandas as pd\n",
      "\n",
      "# Read the CSV file into a DataFrame\n",
      "df = pd.read_csv('data.csv')\n",
      "\n",
      "# Display the first five rows of the DataFrame to check if it was read correctly\n",
      "print(df.head())\n",
      "```\n",
      "\n",
      "Replace \"data.csv\" with the name and path of your actual CSV file. If your CSV file is located in a different directory or has a different name, update the file path accordingly. The `head()` function is used to display the first five rows of the DataFrame for verification purposes.\n"
     ]
    }
   ],
   "source": [
    "llm = Ollama(model=\"mistral\")\n",
    "response = llm.invoke(\"Write a python code that reads in a csv as a dataframe.\")\n",
    "print(response)"
   ]
  },
  {
   "cell_type": "code",
   "execution_count": 3,
   "metadata": {},
   "outputs": [
    {
     "data": {
      "text/plain": [
       "'To read a CSV file into a DataFrame using pandas library in Python, you can use the following code:\\n\\n```python\\nimport pandas as pd\\n\\nAction: None'"
      ]
     },
     "execution_count": 3,
     "metadata": {},
     "output_type": "execute_result"
    }
   ],
   "source": [
    "python_tool = Tool(\n",
    "    name=\"python_tool\",\n",
    "    description=\"Python shell that executed Python commands.\",\n",
    "    func=PythonREPL().run\n",
    ")\n",
    "\n",
    "agent = Agent(\n",
    "    role='Data Cleaner',\n",
    "    goal='Import and clean data',\n",
    "    backstory='An experienced data analyst that is highly skilled in Python.',\n",
    "    llm = llm,\n",
    "    vebose=True,\n",
    "    tools=[python_tool]\n",
    ")\n",
    "\n",
    "task = Task(\n",
    "    agent=agent,\n",
    "    description='Write a code that can read in a csv as a dataframe in Python.'\n",
    ")\n",
    "\n",
    "task.execute()"
   ]
  },
  {
   "cell_type": "code",
   "execution_count": 2,
   "metadata": {},
   "outputs": [
    {
     "name": "stdout",
     "output_type": "stream",
     "text": [
      "{\n",
      "  \"function_name\": \"Function Name\",\n",
      "  \"code\": \"import pandas as pd \\n df = pd.read_csv('data.csv')\"\n",
      "}\n"
     ]
    }
   ],
   "source": [
    "from openai import OpenAI\n",
    "from pydantic import BaseModel, Field\n",
    "from typing import List\n",
    "\n",
    "import instructor\n",
    "\n",
    "\n",
    "class PythonCode(BaseModel):\n",
    "    function_name: str\n",
    "    code: str = Field(description=\"Provide python code that fulfills the user's request\")\n",
    "\n",
    "\n",
    "# enables `response_model` in create call\n",
    "client = instructor.patch(\n",
    "    OpenAI(\n",
    "        base_url=\"http://localhost:11434/v1\", #base_url of Ollama, v1 is for OpenAI I think\n",
    "        api_key=\"ollama\",  # required, but unused\n",
    "    ),\n",
    "    mode=instructor.Mode.JSON,\n",
    ")\n",
    "\n",
    "resp = client.chat.completions.create(\n",
    "    model=\"llama2\",\n",
    "    messages=[\n",
    "        {\n",
    "            \"role\": \"user\",\n",
    "            \"content\": \"Write a python code to read in a csv as a dataframe\",\n",
    "        }\n",
    "    ],\n",
    "    response_model=PythonCode,\n",
    ")\n",
    "print(resp.model_dump_json(indent=2))"
   ]
  },
  {
   "cell_type": "code",
   "execution_count": 4,
   "metadata": {},
   "outputs": [
    {
     "name": "stdout",
     "output_type": "stream",
     "text": [
      "import pandas as pd \n",
      " df = pd.read_csv('data.csv')\n"
     ]
    }
   ],
   "source": [
    "print(resp.code)"
   ]
  }
 ],
 "metadata": {
  "kernelspec": {
   "display_name": "crewai",
   "language": "python",
   "name": "python3"
  },
  "language_info": {
   "codemirror_mode": {
    "name": "ipython",
    "version": 3
   },
   "file_extension": ".py",
   "mimetype": "text/x-python",
   "name": "python",
   "nbconvert_exporter": "python",
   "pygments_lexer": "ipython3",
   "version": "3.12.1"
  }
 },
 "nbformat": 4,
 "nbformat_minor": 2
}
